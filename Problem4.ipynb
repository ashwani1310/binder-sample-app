{
 "cells": [
  {
   "cell_type": "markdown",
   "id": "5ecaa55f",
   "metadata": {},
   "source": [
    "## Importing required functions from python libraries"
   ]
  },
  {
   "cell_type": "code",
   "execution_count": 1,
   "id": "954177a9",
   "metadata": {},
   "outputs": [],
   "source": [
    "import pandas as pd\n",
    "import numpy as np\n",
    "import matplotlib\n",
    "import matplotlib.pyplot as plt\n",
    "from scipy.spatial.distance import cdist\n",
    "import random\n",
    "import copy\n",
    "\n",
    "\n",
    "random.seed(0)\n",
    "np.random.seed(0)\n",
    "\n",
    "EUCLIDEAN_DISTANCE = 'euclidean'\n",
    "SQEUCLIDEAN_DISTANCE = 'sqeuclidean'"
   ]
  },
  {
   "cell_type": "markdown",
   "id": "d07ebf24",
   "metadata": {},
   "source": [
    "## Importing the dataset and create a new data set with two features (x1, x2)."
   ]
  },
  {
   "cell_type": "code",
   "execution_count": 2,
   "id": "46c3ab88",
   "metadata": {},
   "outputs": [],
   "source": [
    "# Importing the dataset.\n",
    "dataset = pd.read_csv('iris.data', names=['SepalLength', 'SepalWidth', 'PetalLength', 'PetalWidth', 'Additional'])\n",
    "\n",
    "\"\"\"\n",
    "new data set with two features by computing the ratio of raw features x = (x1, x2) \n",
    "where x1 = (sepal length/sepal width) and x2 = (petal length/petal width)) \n",
    "\"\"\"\n",
    "x1 = dataset[\"SepalLength\"]/dataset[\"SepalWidth\"]\n",
    "x2 = dataset[\"PetalLength\"]/dataset[\"PetalWidth\"]\n",
    "\n",
    "number_of_features = len(x1)\n",
    "features = np.array(x1).reshape(number_of_features, 1)\n",
    "features = np.append(features, np.array(x2).reshape(number_of_features, 1), axis=1)"
   ]
  },
  {
   "cell_type": "markdown",
   "id": "f0ae0ca6",
   "metadata": {},
   "source": [
    "## Normalizing the dataset."
   ]
  },
  {
   "cell_type": "code",
   "execution_count": 3,
   "id": "4a95096f",
   "metadata": {},
   "outputs": [],
   "source": [
    "normalized_features = np.array((np.array(x1)-np.array(x1).mean())/np.array(x1).std()).reshape(number_of_features, 1)\n",
    "normalized_features = np.append(normalized_features, ((np.array(x2)-np.array(x2).mean())/np.array(x2).std()).reshape(number_of_features, 1), axis=1)"
   ]
  },
  {
   "cell_type": "markdown",
   "id": "2c3b7543",
   "metadata": {},
   "source": [
    "## ******NOTE: Normalized data set will be used for this problem."
   ]
  },
  {
   "cell_type": "markdown",
   "id": "76684165",
   "metadata": {},
   "source": [
    "## Plotting the data to observe the clusters in data."
   ]
  },
  {
   "cell_type": "code",
   "execution_count": 4,
   "id": "29e9b2a2",
   "metadata": {},
   "outputs": [
    {
     "data": {
      "image/png": "[encoded data removed]",
      "text/plain": [
       "<Figure size 432x288 with 1 Axes>"
      ]
     },
     "metadata": {
      "needs_background": "light"
     },
     "output_type": "display_data"
    }
   ],
   "source": [
    "plt.scatter(normalized_features[:,0],normalized_features[:,1])\n",
    "plt.title(\"Normalized Data Plot\")\n",
    "plt.xlabel('x1')\n",
    "plt.ylabel('x2')\n",
    "plt.show()"
   ]
  },
  {
   "cell_type": "markdown",
   "id": "0506ed83",
   "metadata": {},
   "source": [
    "## Function to get the distance matrix"
   ]
  },
  {
   "cell_type": "code",
   "execution_count": 5,
   "id": "84c19370",
   "metadata": {},
   "outputs": [],
   "source": [
    "def get_distance_matrix(features, centroid, distance_calculator=EUCLIDEAN_DISTANCE):\n",
    "    \"\"\"\n",
    "    \n",
    "    Parameters\n",
    "    ----------\n",
    "    features : {array-like, sparse matrix} of shape (n_sample, n_features)\n",
    "    centroid : {array-like, sparse matrix} of shape (1, n_features)\n",
    "           \n",
    "    Returns\n",
    "    -------\n",
    "    distance_matrix : {array-like, sparse matrix}\n",
    "                      The distance of the features from the given centroid.\n",
    "    \n",
    "    \"\"\"\n",
    "    return np.array(cdist(features, centroid, distance_calculator))\n",
    "    "
   ]
  },
  {
   "cell_type": "markdown",
   "id": "0eb0c825",
   "metadata": {},
   "source": [
    "## Function to get the accuracy matrix"
   ]
  },
  {
   "cell_type": "code",
   "execution_count": 6,
   "id": "feb0c0f1",
   "metadata": {},
   "outputs": [],
   "source": [
    "def get_accuracy_matrix(features, centroid, k, num_iters):\n",
    "    \"\"\"\n",
    "    \n",
    "    Parameters\n",
    "    ----------\n",
    "    features : {array-like, sparse matrix} of shape (n_sample, n_features)\n",
    "    centroid : {array-like, sparse matrix} of shape (1, n_features)\n",
    "    k        : {int} the number `k` of the k-nearest neighbours\n",
    "    num_iters: {int} number of iterations.\n",
    "           \n",
    "    Returns\n",
    "    -------\n",
    "    clusters : {list}\n",
    "               The points within the cluster.\n",
    "    centers  : {list}\n",
    "               The center of all the points with the clusters list.\n",
    "    accuracy : {list} \n",
    "               The accuracy of the cluster from each point.\n",
    "    \n",
    "    \"\"\"\n",
    "    accuracy = []\n",
    "\n",
    "    for each_iteration in range(0, num_iters): \n",
    "        distances = get_distance_matrix(features, centroid)\n",
    "        clusters = np.array([np.argmin(val) for val in distances])\n",
    "        centers = []\n",
    "        for each_cluster in range(0,k):\n",
    "            mean = features[clusters==each_cluster].mean(axis=0) \n",
    "            centers.append(mean)  \n",
    "        centers = np.vstack(centers)\n",
    "         \n",
    "        accuracy_matrix = get_distance_matrix(features, centers, distance_calculator=SQEUCLIDEAN_DISTANCE)\n",
    "        total = 0\n",
    "        for i in range(0 , len(accuracy_matrix)):\n",
    "            total += accuracy_matrix[i, clusters[i]]\n",
    "            \n",
    "        accuracy.append(total)\n",
    "    \n",
    "    return clusters, centers, accuracy"
   ]
  },
  {
   "cell_type": "markdown",
   "id": "881ab613",
   "metadata": {},
   "source": [
    "## Execute the kMeans++ Algorithm"
   ]
  },
  {
   "cell_type": "code",
   "execution_count": 7,
   "id": "952d21c2",
   "metadata": {},
   "outputs": [],
   "source": [
    "def run_kmeans_plus_plus(input_features, k, num_iters):\n",
    "    \"\"\"\n",
    "    \n",
    "    Parameters\n",
    "    ----------\n",
    "    input_features  : {array-like, sparse matrix} of shape (n_sample, n_features)\n",
    "                      The feature matrix.\n",
    "    k               : {int} the number `k` of the k-nearest neighbours\n",
    "    num_iters       : {int} the number of iterations to run\n",
    "    \n",
    "           \n",
    "    Returns\n",
    "    -------\n",
    "    get_accuracy_matrix() : function call to get_accuracy_matrix which returns\n",
    "                            the clusters, their respective centers and the accuracy.\n",
    "    \n",
    "    \"\"\"\n",
    "    features = copy.deepcopy(input_features)\n",
    "    randomIndex = np.random.choice(len(features), 1, replace=False)\n",
    "    centers = features[randomIndex, :]\n",
    "    features = np.delete(features,randomIndex, axis=0)\n",
    "    centroid = centers\n",
    "    for i in range(1 , k):\n",
    "        distances = get_distance_matrix(features, centroid)\n",
    "        centers = np.append(centers, np.array(features[np.argmax(distances), :]).reshape(1,2), axis=0)\n",
    "        features = np.delete(features, np.argmax(distances), axis=0)    \n",
    "        centroid = [[centers[:,0].mean(), centers[:,1].mean()]]\n",
    "        \n",
    "    return get_accuracy_matrix(input_features, centers, k, num_iters)"
   ]
  },
  {
   "cell_type": "markdown",
   "id": "791e631b",
   "metadata": {},
   "source": [
    "## Plots the Clusters VS Clustering Objective Plot"
   ]
  },
  {
   "cell_type": "code",
   "execution_count": 8,
   "id": "7ccadc8d",
   "metadata": {},
   "outputs": [
    {
     "data": {
      "image/png": "[encoded data removed]",
      "text/plain": [
       "<Figure size 432x288 with 1 Axes>"
      ]
     },
     "metadata": {
      "needs_background": "light"
     },
     "output_type": "display_data"
    }
   ],
   "source": [
    "all_clusters = []\n",
    "all_centers = [] \n",
    "total_accuracy = []\n",
    "for i in range(1,6):\n",
    "    clusters,centers,accuracy = run_kmeans_plus_plus(normalized_features, i, 50)\n",
    "    all_clusters.append(clusters)\n",
    "    all_centers.append(centers)\n",
    "    total_accuracy.append(accuracy)\n",
    "\n",
    "# Clusters VS Clustering Objective Plot\n",
    "plt.scatter(range(1,6), [total_accuracy[0][-1],total_accuracy[1][-1],total_accuracy[2][-1],total_accuracy[3][-1],total_accuracy[4][-1]], color=\"r\")\n",
    "plt.plot(range(1,6), [total_accuracy[0][-1],total_accuracy[1][-1],total_accuracy[2][-1],total_accuracy[3][-1],total_accuracy[4][-1]])\n",
    "plt.title(\"Clusters VS Clustering Objective\")\n",
    "plt.xlabel('Clusters')\n",
    "plt.ylabel('Clustering Objective')\n",
    "plt.show()"
   ]
  },
  {
   "cell_type": "markdown",
   "id": "28e95637",
   "metadata": {},
   "source": [
    "## Plot the cluster centers."
   ]
  },
  {
   "cell_type": "code",
   "execution_count": 9,
   "id": "8f3f5e33",
   "metadata": {},
   "outputs": [
    {
     "data": {
      "image/png": "[encoded data removed]",
      "text/plain": [
       "<Figure size 432x288 with 1 Axes>"
      ]
     },
     "metadata": {
      "needs_background": "light"
     },
     "output_type": "display_data"
    },
    {
     "data": {
      "image/png": "[encoded data removed]",
      "text/plain": [
       "<Figure size 432x288 with 1 Axes>"
      ]
     },
     "metadata": {
      "needs_background": "light"
     },
     "output_type": "display_data"
    }
   ],
   "source": [
    "plt.scatter(range(1,51), total_accuracy[2], color=\"r\")\n",
    "plt.plot(range(1,51), total_accuracy[2])\n",
    "plt.title(\"Clusters VS Clustering Objective\")\n",
    "plt.xlabel('Clusters')\n",
    "plt.ylabel('Clustering Objective')\n",
    "plt.show() \n",
    "\n",
    "\n",
    "label = all_clusters[2]\n",
    "centers = all_centers[2]\n",
    "cluster = np.unique(label)\n",
    "for i in cluster:\n",
    "    plt.scatter(normalized_features[label == i , 0] , normalized_features[label == i , 1] , label = i)\n",
    "plt.scatter(centers[:, 0], centers[:, 1], c='r',label = \"centers\", s=80)\n",
    "plt.title(\"Cluster\")\n",
    "plt.xlabel('X1')\n",
    "plt.ylabel('X2')\n",
    "plt.legend()\n",
    "plt.show()"
   ]
  },
  {
   "cell_type": "code",
   "execution_count": 10,
   "id": "1c9e7f51",
   "metadata": {},
   "outputs": [
    {
     "name": "stdout",
     "output_type": "stream",
     "text": [
      "The watermark extension is already loaded. To reload it, use:\n",
      "  %reload_ext watermark\n",
      "Python implementation: CPython\n",
      "Python version       : 3.9.13\n",
      "IPython version      : 8.5.0\n",
      "\n",
      "pandas    : 1.5.1\n",
      "numpy     : 1.23.3\n",
      "matplotlib: 3.6.0\n",
      "scipy     : 1.9.3\n",
      "watermark : 2.3.1\n",
      "\n",
      "Compiler    : Clang 13.1.6 (clang-1316.0.21.2.5)\n",
      "OS          : Darwin\n",
      "Release     : 21.6.0\n",
      "Machine     : arm64\n",
      "Processor   : arm\n",
      "CPU cores   : 8\n",
      "Architecture: 64bit\n",
      "\n",
      " \n",
      "Last updated: Tue Oct 25 2022 23:44:23EDT\n",
      "\n"
     ]
    }
   ],
   "source": [
    "%load_ext watermark\n",
    "\n",
    "%watermark -v -m -p pandas,numpy,matplotlib,scipy,watermark\n",
    "\n",
    "print(\" \")\n",
    "%watermark -u -n -t -z"
   ]
  },
  {
   "cell_type": "code",
   "execution_count": null,
   "id": "4abbe0dc",
   "metadata": {},
   "outputs": [],
   "source": []
  }
 ],
 "metadata": {
  "kernelspec": {
   "display_name": "Python 3 (ipykernel)",
   "language": "python",
   "name": "python3"
  },
  "language_info": {
   "codemirror_mode": {
    "name": "ipython",
    "version": 3
   },
   "file_extension": ".py",
   "mimetype": "text/x-python",
   "name": "python",
   "nbconvert_exporter": "python",
   "pygments_lexer": "ipython3",
   "version": "3.9.13"
  }
 },
 "nbformat": 4,
 "nbformat_minor": 5
}
